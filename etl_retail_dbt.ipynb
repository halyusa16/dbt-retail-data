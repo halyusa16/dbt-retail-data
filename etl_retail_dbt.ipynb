{
  "nbformat": 4,
  "nbformat_minor": 0,
  "metadata": {
    "colab": {
      "provenance": [],
      "authorship_tag": "ABX9TyP+TttoMJbMNQ/imxX0x7Fv",
      "include_colab_link": true
    },
    "kernelspec": {
      "name": "python3",
      "display_name": "Python 3"
    },
    "language_info": {
      "name": "python"
    }
  },
  "cells": [
    {
      "cell_type": "markdown",
      "metadata": {
        "id": "view-in-github",
        "colab_type": "text"
      },
      "source": [
        "<a href=\"https://colab.research.google.com/github/halyusa16/dbt-retail-data/blob/main/etl_retail_dbt.ipynb\" target=\"_parent\"><img src=\"https://colab.research.google.com/assets/colab-badge.svg\" alt=\"Open In Colab\"/></a>"
      ]
    },
    {
      "cell_type": "code",
      "execution_count": null,
      "metadata": {
        "id": "9yBXPSQdhZqn"
      },
      "outputs": [],
      "source": [
        "from google.oauth2 import service_account\n",
        "from google.auth.transport.requests import AuthorizedSession\n",
        "import gspread\n",
        "import pandas as pd\n",
        "from google.cloud import bigquery\n",
        "import pandas_gbq"
      ]
    },
    {
      "cell_type": "code",
      "source": [
        "scope = ['https://www.googleapis.com/auth/spreadsheets']\n",
        "\n",
        "# adding the credential file to allow gsheet access from google API\n",
        "credentials = service_account.Credentials.from_service_account_file('/content/gsheet-viewer.json', scopes = scope)\n",
        "\n",
        "# specify the spreadsheet that we worked on\n",
        "gc = gspread.Client(auth=credentials)\n",
        "gc.session = AuthorizedSession(credentials)"
      ],
      "metadata": {
        "id": "0NVXV1U4hlxA"
      },
      "execution_count": null,
      "outputs": []
    },
    {
      "cell_type": "code",
      "source": [
        "# add and open google sheet using the google sheet ID\n",
        "sheet_key = '1XSsij8C-sL8p4c6cq2fWT2fXN4W0HSkv6EImSF_UNH8'\n",
        "sheet = gc.open_by_key(sheet_key)"
      ],
      "metadata": {
        "id": "BBanOOg-hnPE"
      },
      "execution_count": null,
      "outputs": []
    },
    {
      "cell_type": "code",
      "source": [
        "# E for Extract process started here\n",
        "# access the worksheet\n",
        "worksheet_name = 'online_retail'\n",
        "worksheet = sheet.worksheet(worksheet_name)\n",
        "\n",
        "# store data into sheet_data variable\n",
        "sheet_data = worksheet.get_all_records()"
      ],
      "metadata": {
        "id": "5GPGCzJJhpgE"
      },
      "execution_count": null,
      "outputs": []
    },
    {
      "cell_type": "code",
      "source": [
        "# since this is an ingestion process, we will not proceed to transform and clean the data\n",
        "# we just needed to store data into pandas, then later we can push it to BigQuery\n",
        "df = pd.DataFrame(sheet_data)"
      ],
      "metadata": {
        "id": "_gKRbpYDhsEz"
      },
      "execution_count": null,
      "outputs": []
    },
    {
      "cell_type": "code",
      "source": [
        "# time to push the data to BigQuery\n",
        "# set the BigQuery dataset and table name\n",
        "# to avoid data type issues, we will use table schema to state the data types\n",
        "\n",
        "df = df.astype(str)  # convert all columns to string to match schema\n",
        "\n",
        "# enter Google Cloud project ID\n",
        "project_id = 'sound-chalice-349712'\n",
        "\n",
        "# enter BigQuery dataset and create a table name\n",
        "dataset_name = 'halyusa_data'\n",
        "table_name = 'online_retail_data'\n",
        "\n",
        "# construct the full table ID\n",
        "table_id = f'{project_id}.{dataset_name}.{table_name}'\n",
        "\n",
        "# push data to BQ using to_gbq\n",
        "pandas_gbq.to_gbq(\n",
        "    df,\n",
        "    table_id,\n",
        "    project_id=project_id,\n",
        "    if_exists='replace'\n",
        "    )\n",
        "\n",
        "print(\"Data successfully loaded to BQ\")"
      ],
      "metadata": {
        "colab": {
          "base_uri": "https://localhost:8080/"
        },
        "id": "YLVpQxYehsft",
        "outputId": "42e8ef83-76b1-4b18-dede-d233b6b3900d"
      },
      "execution_count": null,
      "outputs": [
        {
          "output_type": "stream",
          "name": "stderr",
          "text": [
            "100%|██████████| 1/1 [00:00<00:00, 6105.25it/s]"
          ]
        },
        {
          "output_type": "stream",
          "name": "stdout",
          "text": [
            "Data successfully loaded to BQ\n"
          ]
        },
        {
          "output_type": "stream",
          "name": "stderr",
          "text": [
            "\n"
          ]
        }
      ]
    }
  ]
}